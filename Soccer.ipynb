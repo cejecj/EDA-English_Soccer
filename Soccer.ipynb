{
 "cells": [
  {
   "cell_type": "markdown",
   "metadata": {},
   "source": [
    "## British Soccer Analysis<br>\n",
    "\n",
    "#### - Who are the winningest teams in Premier League history?\n",
    "#### - Which teams have the most wins overall (in any league)?\n",
    "#### - Which teams have spent the longest in each level of competition?<br><br>"
   ]
  },
  {
   "cell_type": "markdown",
   "metadata": {},
   "source": [
    "### Import data and reformat"
   ]
  },
  {
   "cell_type": "code",
   "execution_count": 1,
   "metadata": {},
   "outputs": [],
   "source": [
    "import pandas as pd\n",
    "import os\n",
    "import matplotlib.pyplot as plt\n",
    "import seaborn as sns\n",
    "import datetime as dt"
   ]
  },
  {
   "cell_type": "code",
   "execution_count": 2,
   "metadata": {},
   "outputs": [],
   "source": [
    "# zip file was previously extracted to the below directory\n",
    "os.chdir('C:/Users/Colin/Documents/england-master/england-master')"
   ]
  },
  {
   "cell_type": "markdown",
   "metadata": {},
   "source": [
    "Begin by creating an empty df. For each league (there are 4 total), iterate through folders to pull the .csv file corresponding to each season. At the end there should be one df with all seasons for all leagues."
   ]
  },
  {
   "cell_type": "code",
   "execution_count": 3,
   "metadata": {},
   "outputs": [],
   "source": [
    "df = pd.DataFrame()"
   ]
  },
  {
   "cell_type": "code",
   "execution_count": 4,
   "metadata": {},
   "outputs": [],
   "source": [
    "i = 1\n",
    "str1 = '.' + str(i)\n",
    "while i < 5:\n",
    "    for root, dirs, files in os.walk('.', topdown = False):\n",
    "        for file in files:\n",
    "            if (file.endswith('.csv')) & (str1 in (file)):\n",
    "                temp = pd.read_csv(os.path.join(root, file))\n",
    "                temp['League'] = i\n",
    "                df = df.append(temp)\n",
    "    i = i+1\n",
    "    str1 = '.' + str(i)\n",
    "df = df.reset_index(drop = True)"
   ]
  },
  {
   "cell_type": "code",
   "execution_count": 5,
   "metadata": {},
   "outputs": [],
   "source": [
    "leagues = {1: 'Premier League', 2: 'Championship', 3: 'League One', 4: 'League Two'}\n",
    "df['League'] = df['League'].map(leagues)"
   ]
  },
  {
   "cell_type": "code",
   "execution_count": 6,
   "metadata": {},
   "outputs": [
    {
     "data": {
      "text/html": [
       "<div>\n",
       "<style scoped>\n",
       "    .dataframe tbody tr th:only-of-type {\n",
       "        vertical-align: middle;\n",
       "    }\n",
       "\n",
       "    .dataframe tbody tr th {\n",
       "        vertical-align: top;\n",
       "    }\n",
       "\n",
       "    .dataframe thead th {\n",
       "        text-align: right;\n",
       "    }\n",
       "</style>\n",
       "<table border=\"1\" class=\"dataframe\">\n",
       "  <thead>\n",
       "    <tr style=\"text-align: right;\">\n",
       "      <th></th>\n",
       "      <th>Round</th>\n",
       "      <th>Date</th>\n",
       "      <th>Team 1</th>\n",
       "      <th>FT</th>\n",
       "      <th>Team 2</th>\n",
       "      <th>League</th>\n",
       "    </tr>\n",
       "  </thead>\n",
       "  <tbody>\n",
       "    <tr>\n",
       "      <th>0</th>\n",
       "      <td>1</td>\n",
       "      <td>Sat Aug 15 1992</td>\n",
       "      <td>Arsenal FC</td>\n",
       "      <td>2-4</td>\n",
       "      <td>Norwich City FC</td>\n",
       "      <td>Premier League</td>\n",
       "    </tr>\n",
       "    <tr>\n",
       "      <th>1</th>\n",
       "      <td>1</td>\n",
       "      <td>Sat Aug 15 1992</td>\n",
       "      <td>Leeds United FC</td>\n",
       "      <td>2-1</td>\n",
       "      <td>Wimbledon FC</td>\n",
       "      <td>Premier League</td>\n",
       "    </tr>\n",
       "    <tr>\n",
       "      <th>2</th>\n",
       "      <td>1</td>\n",
       "      <td>Sat Aug 15 1992</td>\n",
       "      <td>Coventry City FC</td>\n",
       "      <td>2-1</td>\n",
       "      <td>Middlesbrough FC</td>\n",
       "      <td>Premier League</td>\n",
       "    </tr>\n",
       "    <tr>\n",
       "      <th>3</th>\n",
       "      <td>1</td>\n",
       "      <td>Sat Aug 15 1992</td>\n",
       "      <td>Ipswich Town FC</td>\n",
       "      <td>1-1</td>\n",
       "      <td>Aston Villa FC</td>\n",
       "      <td>Premier League</td>\n",
       "    </tr>\n",
       "    <tr>\n",
       "      <th>4</th>\n",
       "      <td>1</td>\n",
       "      <td>Sat Aug 15 1992</td>\n",
       "      <td>Crystal Palace FC</td>\n",
       "      <td>3-3</td>\n",
       "      <td>Blackburn Rovers FC</td>\n",
       "      <td>Premier League</td>\n",
       "    </tr>\n",
       "  </tbody>\n",
       "</table>\n",
       "</div>"
      ],
      "text/plain": [
       "   Round             Date             Team 1   FT               Team 2  \\\n",
       "0      1  Sat Aug 15 1992         Arsenal FC  2-4      Norwich City FC   \n",
       "1      1  Sat Aug 15 1992    Leeds United FC  2-1         Wimbledon FC   \n",
       "2      1  Sat Aug 15 1992   Coventry City FC  2-1     Middlesbrough FC   \n",
       "3      1  Sat Aug 15 1992    Ipswich Town FC  1-1       Aston Villa FC   \n",
       "4      1  Sat Aug 15 1992  Crystal Palace FC  3-3  Blackburn Rovers FC   \n",
       "\n",
       "           League  \n",
       "0  Premier League  \n",
       "1  Premier League  \n",
       "2  Premier League  \n",
       "3  Premier League  \n",
       "4  Premier League  "
      ]
     },
     "execution_count": 6,
     "metadata": {},
     "output_type": "execute_result"
    }
   ],
   "source": [
    "df.head(5)"
   ]
  },
  {
   "cell_type": "code",
   "execution_count": 7,
   "metadata": {},
   "outputs": [
    {
     "data": {
      "text/html": [
       "<div>\n",
       "<style scoped>\n",
       "    .dataframe tbody tr th:only-of-type {\n",
       "        vertical-align: middle;\n",
       "    }\n",
       "\n",
       "    .dataframe tbody tr th {\n",
       "        vertical-align: top;\n",
       "    }\n",
       "\n",
       "    .dataframe thead th {\n",
       "        text-align: right;\n",
       "    }\n",
       "</style>\n",
       "<table border=\"1\" class=\"dataframe\">\n",
       "  <thead>\n",
       "    <tr style=\"text-align: right;\">\n",
       "      <th></th>\n",
       "      <th>Round</th>\n",
       "      <th>Date</th>\n",
       "      <th>Team 1</th>\n",
       "      <th>FT</th>\n",
       "      <th>Team 2</th>\n",
       "      <th>League</th>\n",
       "    </tr>\n",
       "  </thead>\n",
       "  <tbody>\n",
       "    <tr>\n",
       "      <th>43953</th>\n",
       "      <td>46</td>\n",
       "      <td>Sat Apr 25 2020</td>\n",
       "      <td>Macclesfield Town FC</td>\n",
       "      <td>NaN</td>\n",
       "      <td>Swindon Town FC</td>\n",
       "      <td>League Two</td>\n",
       "    </tr>\n",
       "    <tr>\n",
       "      <th>43954</th>\n",
       "      <td>46</td>\n",
       "      <td>Sat Apr 25 2020</td>\n",
       "      <td>Mansfield Town FC</td>\n",
       "      <td>NaN</td>\n",
       "      <td>Crawley Town FC</td>\n",
       "      <td>League Two</td>\n",
       "    </tr>\n",
       "    <tr>\n",
       "      <th>43955</th>\n",
       "      <td>46</td>\n",
       "      <td>Sat Apr 25 2020</td>\n",
       "      <td>Morecambe FC</td>\n",
       "      <td>NaN</td>\n",
       "      <td>Scunthorpe United FC</td>\n",
       "      <td>League Two</td>\n",
       "    </tr>\n",
       "    <tr>\n",
       "      <th>43956</th>\n",
       "      <td>46</td>\n",
       "      <td>Sat Apr 25 2020</td>\n",
       "      <td>Newport County AFC</td>\n",
       "      <td>NaN</td>\n",
       "      <td>Northampton Town FC</td>\n",
       "      <td>League Two</td>\n",
       "    </tr>\n",
       "    <tr>\n",
       "      <th>43957</th>\n",
       "      <td>46</td>\n",
       "      <td>Sat Apr 25 2020</td>\n",
       "      <td>Plymouth Argyle FC</td>\n",
       "      <td>NaN</td>\n",
       "      <td>Port Vale FC</td>\n",
       "      <td>League Two</td>\n",
       "    </tr>\n",
       "  </tbody>\n",
       "</table>\n",
       "</div>"
      ],
      "text/plain": [
       "       Round             Date                Team 1   FT  \\\n",
       "43953     46  Sat Apr 25 2020  Macclesfield Town FC  NaN   \n",
       "43954     46  Sat Apr 25 2020     Mansfield Town FC  NaN   \n",
       "43955     46  Sat Apr 25 2020          Morecambe FC  NaN   \n",
       "43956     46  Sat Apr 25 2020    Newport County AFC  NaN   \n",
       "43957     46  Sat Apr 25 2020    Plymouth Argyle FC  NaN   \n",
       "\n",
       "                     Team 2      League  \n",
       "43953       Swindon Town FC  League Two  \n",
       "43954       Crawley Town FC  League Two  \n",
       "43955  Scunthorpe United FC  League Two  \n",
       "43956   Northampton Town FC  League Two  \n",
       "43957          Port Vale FC  League Two  "
      ]
     },
     "execution_count": 7,
     "metadata": {},
     "output_type": "execute_result"
    }
   ],
   "source": [
    "df.tail(5)"
   ]
  },
  {
   "cell_type": "code",
   "execution_count": 8,
   "metadata": {},
   "outputs": [
    {
     "data": {
      "text/plain": [
       "330"
      ]
     },
     "execution_count": 8,
     "metadata": {},
     "output_type": "execute_result"
    }
   ],
   "source": [
    "sum(df['FT'].isna())"
   ]
  },
  {
   "cell_type": "markdown",
   "metadata": {},
   "source": [
    "After inspecting the file, it seems there are games whose results haven't been recorded (likely due to being cancelled). Remove these records."
   ]
  },
  {
   "cell_type": "code",
   "execution_count": 9,
   "metadata": {},
   "outputs": [],
   "source": [
    "df = df.dropna(subset = ['FT'], axis = 0)"
   ]
  },
  {
   "cell_type": "markdown",
   "metadata": {},
   "source": [
    "Finish prepping the data by converting the score from a singular string field into separate fields containing home and away scores. Then add a field that indicates who won the game."
   ]
  },
  {
   "cell_type": "code",
   "execution_count": 10,
   "metadata": {},
   "outputs": [],
   "source": [
    "df['Home Score'] = df['FT'].str.split('-', n = 1, expand = True)[0]\n",
    "df['Road Score'] = df['FT'].str.split('-', n = 1, expand = True)[1]\n",
    "df.drop('FT', axis = 1, inplace = True)"
   ]
  },
  {
   "cell_type": "code",
   "execution_count": 11,
   "metadata": {},
   "outputs": [],
   "source": [
    "def outcome(home_score, road_score, home_team, road_team):\n",
    "    if home_score > road_score:\n",
    "        return home_team\n",
    "    elif road_score > home_score:\n",
    "        return road_team\n",
    "    else:\n",
    "        return 'Draw'\n",
    "    \n",
    "df['Outcome'] = df.apply(lambda df: outcome(df['Home Score'], df['Road Score'], df['Team 1'], df['Team 2']), axis = 1)"
   ]
  },
  {
   "cell_type": "markdown",
   "metadata": {},
   "source": [
    "### Who are the winningest teams in Premier League history?"
   ]
  },
  {
   "cell_type": "markdown",
   "metadata": {},
   "source": [
    "Begin by subsetting the full df to get only PL matchups, then pivot it out to get the teams with the most wins."
   ]
  },
  {
   "cell_type": "code",
   "execution_count": 12,
   "metadata": {},
   "outputs": [],
   "source": [
    "pl = df[df['League'] == 'Premier League']"
   ]
  },
  {
   "cell_type": "code",
   "execution_count": 13,
   "metadata": {},
   "outputs": [],
   "source": [
    "pl_pivot = (\n",
    "    pd.pivot_table(index = 'Outcome', values = 'Date', data = pl, aggfunc = len)\n",
    "    .sort_values(by = 'Date', ascending = False)\n",
    "    .reset_index()\n",
    "    .rename(columns = {'Outcome': 'Team', 'Date': 'Wins'})\n",
    ")\n",
    "pl_pivot = pl_pivot[pl_pivot['Team'] != 'Draw'].reset_index(drop = True)"
   ]
  },
  {
   "cell_type": "code",
   "execution_count": 14,
   "metadata": {},
   "outputs": [
    {
     "data": {
      "text/html": [
       "<div>\n",
       "<style scoped>\n",
       "    .dataframe tbody tr th:only-of-type {\n",
       "        vertical-align: middle;\n",
       "    }\n",
       "\n",
       "    .dataframe tbody tr th {\n",
       "        vertical-align: top;\n",
       "    }\n",
       "\n",
       "    .dataframe thead th {\n",
       "        text-align: right;\n",
       "    }\n",
       "</style>\n",
       "<table border=\"1\" class=\"dataframe\">\n",
       "  <thead>\n",
       "    <tr style=\"text-align: right;\">\n",
       "      <th></th>\n",
       "      <th>Team</th>\n",
       "      <th>Wins</th>\n",
       "    </tr>\n",
       "  </thead>\n",
       "  <tbody>\n",
       "    <tr>\n",
       "      <th>0</th>\n",
       "      <td>Manchester United FC</td>\n",
       "      <td>663</td>\n",
       "    </tr>\n",
       "    <tr>\n",
       "      <th>1</th>\n",
       "      <td>Arsenal FC</td>\n",
       "      <td>577</td>\n",
       "    </tr>\n",
       "    <tr>\n",
       "      <th>2</th>\n",
       "      <td>Chelsea FC</td>\n",
       "      <td>575</td>\n",
       "    </tr>\n",
       "    <tr>\n",
       "      <th>3</th>\n",
       "      <td>Liverpool FC</td>\n",
       "      <td>558</td>\n",
       "    </tr>\n",
       "    <tr>\n",
       "      <th>4</th>\n",
       "      <td>Tottenham Hotspur FC</td>\n",
       "      <td>458</td>\n",
       "    </tr>\n",
       "  </tbody>\n",
       "</table>\n",
       "</div>"
      ],
      "text/plain": [
       "                   Team  Wins\n",
       "0  Manchester United FC   663\n",
       "1            Arsenal FC   577\n",
       "2            Chelsea FC   575\n",
       "3          Liverpool FC   558\n",
       "4  Tottenham Hotspur FC   458"
      ]
     },
     "execution_count": 14,
     "metadata": {},
     "output_type": "execute_result"
    }
   ],
   "source": [
    "pl_pivot.head(5)"
   ]
  },
  {
   "cell_type": "markdown",
   "metadata": {},
   "source": [
    "##### - ManU has the most wins all time in the Premier league, followed by Arsenal and Chelsea"
   ]
  },
  {
   "cell_type": "code",
   "execution_count": 15,
   "metadata": {},
   "outputs": [
    {
     "data": {
      "text/html": [
       "<div>\n",
       "<style scoped>\n",
       "    .dataframe tbody tr th:only-of-type {\n",
       "        vertical-align: middle;\n",
       "    }\n",
       "\n",
       "    .dataframe tbody tr th {\n",
       "        vertical-align: top;\n",
       "    }\n",
       "\n",
       "    .dataframe thead th {\n",
       "        text-align: right;\n",
       "    }\n",
       "</style>\n",
       "<table border=\"1\" class=\"dataframe\">\n",
       "  <thead>\n",
       "    <tr style=\"text-align: right;\">\n",
       "      <th></th>\n",
       "      <th>Team</th>\n",
       "      <th>Wins</th>\n",
       "    </tr>\n",
       "  </thead>\n",
       "  <tbody>\n",
       "    <tr>\n",
       "      <th>0</th>\n",
       "      <td>Swindon Town FC</td>\n",
       "      <td>5</td>\n",
       "    </tr>\n",
       "    <tr>\n",
       "      <th>1</th>\n",
       "      <td>Blackpool FC</td>\n",
       "      <td>10</td>\n",
       "    </tr>\n",
       "    <tr>\n",
       "      <th>2</th>\n",
       "      <td>Barnsley FC</td>\n",
       "      <td>10</td>\n",
       "    </tr>\n",
       "    <tr>\n",
       "      <th>3</th>\n",
       "      <td>Huddersfield Town AFC</td>\n",
       "      <td>12</td>\n",
       "    </tr>\n",
       "    <tr>\n",
       "      <th>4</th>\n",
       "      <td>Bradford City AFC</td>\n",
       "      <td>14</td>\n",
       "    </tr>\n",
       "  </tbody>\n",
       "</table>\n",
       "</div>"
      ],
      "text/plain": [
       "                    Team  Wins\n",
       "0        Swindon Town FC     5\n",
       "1           Blackpool FC    10\n",
       "2            Barnsley FC    10\n",
       "3  Huddersfield Town AFC    12\n",
       "4      Bradford City AFC    14"
      ]
     },
     "execution_count": 15,
     "metadata": {},
     "output_type": "execute_result"
    }
   ],
   "source": [
    "pl_pivot.tail(5).sort_values(by = 'Wins', ascending = True).reset_index(drop = True)"
   ]
  },
  {
   "cell_type": "markdown",
   "metadata": {},
   "source": [
    "##### - Swindon Town has the fewest"
   ]
  },
  {
   "cell_type": "code",
   "execution_count": 16,
   "metadata": {},
   "outputs": [
    {
     "data": {
      "image/png": "[encoded data removed]",
      "text/plain": [
       "<Figure size 1080x720 with 1 Axes>"
      ]
     },
     "metadata": {
      "needs_background": "light"
     },
     "output_type": "display_data"
    }
   ],
   "source": [
    "plt.figure(figsize = (15, 10))\n",
    "pl_graph = sns.barplot(x = 'Wins', y = 'Team', data = pl_pivot).set_title('Wins by Team in the Premier League')\n",
    "plt.show()"
   ]
  },
  {
   "cell_type": "markdown",
   "metadata": {},
   "source": [
    "### Which teams have the most wins overall (in any league)?"
   ]
  },
  {
   "cell_type": "markdown",
   "metadata": {},
   "source": [
    "There may be teams who have won more games in lower levels than the top flight. Pivot the full df to see if that's the case."
   ]
  },
  {
   "cell_type": "code",
   "execution_count": 17,
   "metadata": {},
   "outputs": [],
   "source": [
    "overall_pivot = (\n",
    "    pd.pivot_table(index = 'Outcome', values = 'Date', data = df, aggfunc = len)\n",
    "    .sort_values(by = 'Date', ascending = False)\n",
    "    .reset_index()\n",
    "    .rename(columns = {'Outcome': 'Team', 'Date': 'Wins'})\n",
    ")\n",
    "overall_pivot = overall_pivot[overall_pivot['Team'] != 'Draw'].reset_index(drop = True)"
   ]
  },
  {
   "cell_type": "code",
   "execution_count": 18,
   "metadata": {},
   "outputs": [
    {
     "data": {
      "text/html": [
       "<div>\n",
       "<style scoped>\n",
       "    .dataframe tbody tr th:only-of-type {\n",
       "        vertical-align: middle;\n",
       "    }\n",
       "\n",
       "    .dataframe tbody tr th {\n",
       "        vertical-align: top;\n",
       "    }\n",
       "\n",
       "    .dataframe thead th {\n",
       "        text-align: right;\n",
       "    }\n",
       "</style>\n",
       "<table border=\"1\" class=\"dataframe\">\n",
       "  <thead>\n",
       "    <tr style=\"text-align: right;\">\n",
       "      <th></th>\n",
       "      <th>Team</th>\n",
       "      <th>Wins</th>\n",
       "    </tr>\n",
       "  </thead>\n",
       "  <tbody>\n",
       "    <tr>\n",
       "      <th>0</th>\n",
       "      <td>Manchester United FC</td>\n",
       "      <td>663</td>\n",
       "    </tr>\n",
       "    <tr>\n",
       "      <th>1</th>\n",
       "      <td>Arsenal FC</td>\n",
       "      <td>577</td>\n",
       "    </tr>\n",
       "    <tr>\n",
       "      <th>2</th>\n",
       "      <td>Chelsea FC</td>\n",
       "      <td>575</td>\n",
       "    </tr>\n",
       "    <tr>\n",
       "      <th>3</th>\n",
       "      <td>Liverpool FC</td>\n",
       "      <td>558</td>\n",
       "    </tr>\n",
       "    <tr>\n",
       "      <th>4</th>\n",
       "      <td>Manchester City FC</td>\n",
       "      <td>491</td>\n",
       "    </tr>\n",
       "    <tr>\n",
       "      <th>5</th>\n",
       "      <td>Leeds United FC</td>\n",
       "      <td>461</td>\n",
       "    </tr>\n",
       "    <tr>\n",
       "      <th>6</th>\n",
       "      <td>Tottenham Hotspur FC</td>\n",
       "      <td>458</td>\n",
       "    </tr>\n",
       "    <tr>\n",
       "      <th>7</th>\n",
       "      <td>Blackburn Rovers FC</td>\n",
       "      <td>396</td>\n",
       "    </tr>\n",
       "    <tr>\n",
       "      <th>8</th>\n",
       "      <td>Sheffield United FC</td>\n",
       "      <td>391</td>\n",
       "    </tr>\n",
       "    <tr>\n",
       "      <th>9</th>\n",
       "      <td>Everton FC</td>\n",
       "      <td>389</td>\n",
       "    </tr>\n",
       "  </tbody>\n",
       "</table>\n",
       "</div>"
      ],
      "text/plain": [
       "                   Team  Wins\n",
       "0  Manchester United FC   663\n",
       "1            Arsenal FC   577\n",
       "2            Chelsea FC   575\n",
       "3          Liverpool FC   558\n",
       "4    Manchester City FC   491\n",
       "5       Leeds United FC   461\n",
       "6  Tottenham Hotspur FC   458\n",
       "7   Blackburn Rovers FC   396\n",
       "8   Sheffield United FC   391\n",
       "9            Everton FC   389"
      ]
     },
     "execution_count": 18,
     "metadata": {},
     "output_type": "execute_result"
    }
   ],
   "source": [
    "overall_pivot.head(10)"
   ]
  },
  {
   "cell_type": "markdown",
   "metadata": {},
   "source": [
    "##### - Unsurprisingly, this is mostly the same as the Premier League results. The first difference is at #5 with Man City, then Leeds at #6. Leeds is an interesting case because they have been in the level beneath the PL for a while now, so they must be winning a lot of games in the Championship, but not quite enough to get promoted."
   ]
  },
  {
   "cell_type": "markdown",
   "metadata": {},
   "source": [
    "### Which teams have spent the longest in each level of competition?"
   ]
  },
  {
   "cell_type": "markdown",
   "metadata": {},
   "source": [
    "To find this, will need to create a new grouped table that has one record for each team for each season they've played (at each level). To do this, need to first identify the season (since the date doesn't necessarily tell us that)."
   ]
  },
  {
   "cell_type": "code",
   "execution_count": 19,
   "metadata": {},
   "outputs": [],
   "source": [
    "levels = df.copy()"
   ]
  },
  {
   "cell_type": "code",
   "execution_count": 20,
   "metadata": {},
   "outputs": [],
   "source": [
    "levels['Date'] = pd.to_datetime(levels['Date'])"
   ]
  },
  {
   "cell_type": "markdown",
   "metadata": {},
   "source": [
    "To date, a season has never started before August nor ended after July, so can reasonably assume that any games after August in a given year are part of a \"new\" season, and games before August are part of \"last\" season."
   ]
  },
  {
   "cell_type": "code",
   "execution_count": 21,
   "metadata": {},
   "outputs": [],
   "source": [
    "levels.loc[levels['Date'].dt.month < 8, 'Season'] = (levels['Date'].dt.year - 1)\n",
    "levels.loc[levels['Date'].dt.month >= 8, 'Season'] = levels['Date'].dt.year"
   ]
  },
  {
   "cell_type": "code",
   "execution_count": 22,
   "metadata": {},
   "outputs": [],
   "source": [
    "# remove dups so we're left with one record for each team\n",
    "levels = levels.drop_duplicates(subset = ['Team 1', 'Season'])"
   ]
  },
  {
   "cell_type": "code",
   "execution_count": 23,
   "metadata": {},
   "outputs": [],
   "source": [
    "levels = levels[['Team 1', 'League', 'Season']]\n",
    "levels = levels.rename(columns = {'Team 1': 'Team'})"
   ]
  },
  {
   "cell_type": "code",
   "execution_count": 24,
   "metadata": {},
   "outputs": [],
   "source": [
    "levels_pivot = (\n",
    "    pd.pivot_table(index = 'Team', values = 'Season', columns = 'League', data = levels, aggfunc = len)\n",
    "    .reset_index(drop = False)\n",
    "    .sort_values(by = 'Team', ascending = True)\n",
    ")\n",
    "levels_pivot = levels_pivot[['Team', 'Premier League', 'Championship', 'League One', 'League Two']]"
   ]
  },
  {
   "cell_type": "markdown",
   "metadata": {},
   "source": [
    "#### Which teams have spent every year in the Premier League since inception?"
   ]
  },
  {
   "cell_type": "code",
   "execution_count": 25,
   "metadata": {},
   "outputs": [
    {
     "name": "stdout",
     "output_type": "stream",
     "text": [
      "['Arsenal FC', 'Chelsea FC', 'Everton FC', 'Liverpool FC', 'Manchester United FC', 'Tottenham Hotspur FC']\n"
     ]
    }
   ],
   "source": [
    "print(levels_pivot[levels_pivot['Premier League'] == levels['Season'].nunique()]['Team'].tolist())"
   ]
  },
  {
   "cell_type": "markdown",
   "metadata": {},
   "source": [
    "<br>"
   ]
  },
  {
   "cell_type": "markdown",
   "metadata": {},
   "source": [
    "### Review:<br>\n",
    "#### - The top three teams in Premier League wins all-time are ManU, Arsenal, and Chelsea\n",
    "#### - These are the same three in most wins all-time\n",
    "#### - Arsenal, Chelsea, Everton, Liverpool, ManU, and Tottenham have spent all 28 seasons of the Premier League in the top tier"
   ]
  }
 ],
 "metadata": {
  "kernelspec": {
   "display_name": "Python 3",
   "language": "python",
   "name": "python3"
  },
  "language_info": {
   "codemirror_mode": {
    "name": "ipython",
    "version": 3
   },
   "file_extension": ".py",
   "mimetype": "text/x-python",
   "name": "python",
   "nbconvert_exporter": "python",
   "pygments_lexer": "ipython3",
   "version": "3.8.0"
  }
 },
 "nbformat": 4,
 "nbformat_minor": 4
}
